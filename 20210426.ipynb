{
  "nbformat": 4,
  "nbformat_minor": 0,
  "metadata": {
    "colab": {
      "name": "20210426.ipynb",
      "provenance": [],
      "authorship_tag": "ABX9TyMFjEZRAuDG+G08CiGR0mk2",
      "include_colab_link": true
    },
    "kernelspec": {
      "name": "python3",
      "display_name": "Python 3"
    },
    "language_info": {
      "name": "python"
    }
  },
  "cells": [
    {
      "cell_type": "markdown",
      "metadata": {
        "id": "view-in-github",
        "colab_type": "text"
      },
      "source": [
        "<a href=\"https://colab.research.google.com/github/codingsj01/class2021Spring/blob/main/20210426.ipynb\" target=\"_parent\"><img src=\"https://colab.research.google.com/assets/colab-badge.svg\" alt=\"Open In Colab\"/></a>"
      ]
    },
    {
      "cell_type": "code",
      "metadata": {
        "id": "2WAs2J9dWcUv"
      },
      "source": [
        "%matplotlib inline\n",
        "from matplotlib import pyplot as plt\n",
        "import IPython.display as ipd\n",
        "import numpy as np\n",
        "from scipy.signal import lfilter"
      ],
      "execution_count": 36,
      "outputs": []
    },
    {
      "cell_type": "code",
      "metadata": {
        "id": "6nuiA0qEzGXo"
      },
      "source": [
        "amp = 1\n",
        "sr = 10000\n",
        "dur = 0.5\n",
        "freq = 200.0"
      ],
      "execution_count": 37,
      "outputs": []
    },
    {
      "cell_type": "code",
      "metadata": {
        "id": "eog54PdaWcU2"
      },
      "source": [
        "t = np.arange(1, sr * dur+1)/sr"
      ],
      "execution_count": 38,
      "outputs": []
    },
    {
      "cell_type": "code",
      "metadata": {
        "id": "RSv5Po5sWcU3"
      },
      "source": [
        "theta = t * 2*np.pi * freq   "
      ],
      "execution_count": 39,
      "outputs": []
    },
    {
      "cell_type": "code",
      "metadata": {
        "id": "89hyLs9mWcU3"
      },
      "source": [
        "s = np.sin(theta)"
      ],
      "execution_count": 40,
      "outputs": []
    },
    {
      "cell_type": "code",
      "metadata": {
        "id": "dZ480TvCx_AE"
      },
      "source": [
        "def phasor(amp,sr,dur,freq):\n",
        "  return s, theta, t"
      ],
      "execution_count": 50,
      "outputs": []
    },
    {
      "cell_type": "code",
      "metadata": {
        "colab": {
          "base_uri": "https://localhost:8080/"
        },
        "id": "g8KB01zA0Z_y",
        "outputId": "518bc3ee-57b7-4da2-bc20-9f2803f820b7"
      },
      "source": [
        "s = phasor(1, 10000, 0.5, 200.0)\n",
        "print(s)"
      ],
      "execution_count": 51,
      "outputs": [
        {
          "output_type": "stream",
          "text": [
            "(array([ 1.25333234e-01,  2.48689887e-01,  3.68124553e-01, ...,\n",
            "       -2.48689887e-01, -1.25333234e-01,  3.92877345e-15]), array([1.25663706e-01, 2.51327412e-01, 3.76991118e-01, ...,\n",
            "       6.28067203e+02, 6.28192867e+02, 6.28318531e+02]), array([1.000e-04, 2.000e-04, 3.000e-04, ..., 4.998e-01, 4.999e-01,\n",
            "       5.000e-01]))\n"
          ],
          "name": "stdout"
        }
      ]
    }
  ]
}