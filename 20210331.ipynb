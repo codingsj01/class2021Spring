{
  "nbformat": 4,
  "nbformat_minor": 0,
  "metadata": {
    "colab": {
      "name": "20210331.ipynb",
      "provenance": [],
      "authorship_tag": "ABX9TyNJHfKnmqu+FlGQqUniaE6p",
      "include_colab_link": true
    },
    "kernelspec": {
      "name": "python3",
      "display_name": "Python 3"
    },
    "language_info": {
      "name": "python"
    }
  },
  "cells": [
    {
      "cell_type": "markdown",
      "metadata": {
        "id": "view-in-github",
        "colab_type": "text"
      },
      "source": [
        "<a href=\"https://colab.research.google.com/github/codingsj01/class2021Spring/blob/main/20210331.ipynb\" target=\"_parent\"><img src=\"https://colab.research.google.com/assets/colab-badge.svg\" alt=\"Open In Colab\"/></a>"
      ]
    },
    {
      "cell_type": "code",
      "metadata": {
        "id": "QFP2GPDW41H6"
      },
      "source": [
        "[아]\n",
        "pitch : 110hz\n",
        "intensity : 74.38 dB\n",
        "formant : 751.3 Hz, 1186 Hz\n",
        "\n",
        "[애]\n",
        "pitch : 114.5 Hz\n",
        "intensity : 64.45 dB\n",
        "formant : 704.3 Hz, 1843 Hz"
      ],
      "execution_count": null,
      "outputs": []
    }
  ]
}