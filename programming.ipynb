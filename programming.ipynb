{
  "nbformat": 4,
  "nbformat_minor": 0,
  "metadata": {
    "colab": {
      "name": "programming.ipynb",
      "provenance": [],
      "authorship_tag": "ABX9TyP/r+lSeuKxBYgkTSmQKYpu",
      "include_colab_link": true
    },
    "kernelspec": {
      "name": "python3",
      "display_name": "Python 3"
    }
  },
  "cells": [
    {
      "cell_type": "markdown",
      "metadata": {
        "id": "view-in-github",
        "colab_type": "text"
      },
      "source": [
        "<a href=\"https://colab.research.google.com/github/codingsj01/class2021Spring/blob/main/programming.ipynb\" target=\"_parent\"><img src=\"https://colab.research.google.com/assets/colab-badge.svg\" alt=\"Open In Colab\"/></a>"
      ]
    },
    {
      "cell_type": "markdown",
      "metadata": {
        "id": "HEH9DmY2o6_M"
      },
      "source": [
        "[컴퓨터언어]\r\n",
        "\r\n",
        "변수: 우리 말의 '단어'이다. 즉, '사과'라는 단어에 '빨간 색의 과일'이라는 뜻이 매칭된다고 하면 이 때의 '사과'라는 단어가 컴퓨터언어의 '변수'이다. 이때, a = 1이라고 하면 통상적으로 알려진 'a는 1이다'가 아니라, 'a에 1이라는 값을 배정한다'라는 뜻의 기호이다.\r\n",
        "\r\n",
        "제어문: 우리 말의 문법이다. for과 if가 있는데, for은 반복, if는 조건이라고 생각하면 된다. \r\n",
        "예를 들어서, for(100), print(1)이라고 하면 1이 100번 반복해서 출력될 것이다.\r\n",
        "다음으로, a = 1, if(a == 1), print(1)이라고 하면 'a'에는 1이라는 값이 배정되었고, 만일 a가 1이라면 1을 출력하라는 조건이 붙었으므로 1이 출력될 것이다. 이와 같은 for, if 제어문은 어느 컴퓨터언어에나 존재한다.\r\n",
        "\r\n",
        "함수: 마치 우리의 신체와 같이, 입력값을 넣으면 출력값이 나오는 것이 바로 함수인데, 함수는 반복적인 작업을 처리할 때 주로 사용한다. 함수를 사용하면 여러가지 입력값이 함수를 거쳐 출력값으로 깔끔하게 나오므로 전체적으로 보기 편하게 된다. y = f(x)라는 기본적인 틀로 보자면 x는 입력값이고 y는 출력값이다. 이것이 컴퓨터언어에도 적용이 되어, a = add(2,3)이라고 하면 2와 3이 입력값이 되고, 이를 더한 출력값이 a가 된다."
      ]
    }
  ]
}