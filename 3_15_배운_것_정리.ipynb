{
  "nbformat": 4,
  "nbformat_minor": 0,
  "metadata": {
    "colab": {
      "name": "3/15 배운 것 정리.ipynb",
      "provenance": [],
      "authorship_tag": "ABX9TyM9j28l/U2rtBx/CQVJ/uVf",
      "include_colab_link": true
    },
    "kernelspec": {
      "name": "python3",
      "display_name": "Python 3"
    }
  },
  "cells": [
    {
      "cell_type": "markdown",
      "metadata": {
        "id": "view-in-github",
        "colab_type": "text"
      },
      "source": [
        "<a href=\"https://colab.research.google.com/github/codingsj01/class2021Spring/blob/main/3_15_%EB%B0%B0%EC%9A%B4_%EA%B2%83_%EC%A0%95%EB%A6%AC.ipynb\" target=\"_parent\"><img src=\"https://colab.research.google.com/assets/colab-badge.svg\" alt=\"Open In Colab\"/></a>"
      ]
    },
    {
      "cell_type": "markdown",
      "metadata": {
        "id": "kdhPUc5wad2q"
      },
      "source": [
        "<숫자형>\r\n",
        "\r\n",
        "float: 소수. 정수를 소수로 하면 n.0이 됨.\r\n",
        "\r\n",
        "int(integer): 정수, 소수를 정수로 하면 반올림해서 출력됨.\r\n",
        "\r\n",
        "<문자열>\r\n",
        "\r\n",
        "' '(single quote) 사용하여 입력함. \r\n",
        "\r\n",
        "리스트\r\n",
        "\r\n",
        "[ ], 대괄호 사용해서 입력.\r\n",
        "\r\n",
        "a = [1, '2', [3, 'a']]로 하면 1은 숫자, 2는 문자, [3, 'a']는 한 덩어리로 인식함.\r\n",
        "\r\n",
        "[ ]안에 숫자형과 문자열 모두 사용 가능함.\r\n",
        "\r\n",
        "튜플\r\n",
        "\r\n",
        "( ), 소괄호 사용해서 입력.\r\n",
        "\r\n",
        "리스트와 사실상 거의 같지만, 튜플은 괄호 안의 내용을 바꿀 수 없어 안전성을 높일 수 있다는 장점이 있음.\r\n",
        "\r\n",
        "딕셔너리 자료형\r\n",
        "\r\n",
        "{ }, 중괄호 사용\r\n",
        "\r\n",
        "a = {\"a\": \"apple\", ...} 쉽게 이해하려면 표제어에 뜻을 부여하는 것으로 생각하면 됨.\r\n",
        "\r\n",
        "s = [1:3]은 index 1부터 index 3 전까지 모두 출력됨.\r\n",
        "\r\n",
        "s[-1]는 마지막에 있는 것, s[-2]는 마지막에서 두번째 것이 출력됨. \r\n",
        "\r\n",
        "s[:]은 모두 출력됨.\r\n",
        "\r\n",
        "len은 length, 즉 자료의 길이가 나옴.\r\n",
        "\r\n",
        "n=[1, 2, 3]\r\n",
        "\r\n",
        "len(n)\r\n",
        "\r\n",
        "3\r\n",
        "\r\n",
        "／n은 줄바꿈\r\n",
        "\r\n",
        "for 변수 in ~\r\n",
        "\r\n",
        "a=[1, 2, 3, 4] for i in a:\r\n",
        "\r\n",
        "print (i)\r\n",
        "\r\n",
        "1\r\n",
        "\r\n",
        "2\r\n",
        "\r\n",
        "3\r\n",
        "\r\n",
        "4\r\n",
        "\r\n",
        "이런 식으로 출력됨."
      ]
    }
  ]
}